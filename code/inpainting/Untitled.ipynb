{
 "cells": [
  {
   "cell_type": "code",
   "execution_count": 1,
   "metadata": {
    "collapsed": false
   },
   "outputs": [
    {
     "name": "stderr",
     "output_type": "stream",
     "text": [
      "[INFO              ] [Logger      ] Record log in C:\\Users\\xiaoy\\.kivy\\logs\\kivy_16-04-08_13.txt\n",
      "[INFO              ] [Kivy        ] v1.9.1\n",
      "[INFO              ] [Python      ] v2.7.11 |Continuum Analytics, Inc.| (default, Feb 16 2016, 09:58:36) [MSC v.1500 64 bit (AMD64)]\n",
      "[INFO              ] [Image       ] Providers: img_tex, img_dds, img_gif, img_sdl2 (img_pil, img_ffpyplayer ignored)\n"
     ]
    }
   ],
   "source": [
    "import algorithm as al\n",
    "import numpy as np\n",
    "import cv2 as cv\n",
    "import Queue\n",
    "from patchdb import *\n",
    "from psi import *\n",
    "from copyutils import *\n",
    "from debug import *\n",
    "import inspect"
   ]
  },
  {
   "cell_type": "code",
   "execution_count": 2,
   "metadata": {
    "collapsed": false
   },
   "outputs": [],
   "source": [
    "def imshow(img):\n",
    "    cv.imshow('image', img)\n",
    "    cv.waitKey(0)\n",
    "    cv.destroyAllWindows()"
   ]
  },
  {
   "cell_type": "code",
   "execution_count": 3,
   "metadata": {
    "collapsed": false
   },
   "outputs": [],
   "source": [
    "_p = al.Inpainting()"
   ]
  },
  {
   "cell_type": "code",
   "execution_count": 4,
   "metadata": {
    "collapsed": false
   },
   "outputs": [
    {
     "data": {
      "text/plain": [
       "(True, 'Success')"
      ]
     },
     "execution_count": 4,
     "metadata": {},
     "output_type": "execute_result"
    }
   ],
   "source": [
    "_p.readImage('../../test_images/Kanizsa-triangle-tiny.png', 'source')\n",
    "\n",
    "_p.readImage('../../test_images/Kanizsa-triangle-mask-tiny.png', 'alpha')"
   ]
  },
  {
   "cell_type": "code",
   "execution_count": 5,
   "metadata": {
    "collapsed": true
   },
   "outputs": [],
   "source": [
    "_p._images['filled'] = np.uint8(_p._images['alpha'] > 0)*255\n",
    "_p._images['inpainted'] = _p._images['source'].copy()"
   ]
  },
  {
   "cell_type": "code",
   "execution_count": 6,
   "metadata": {
    "collapsed": true
   },
   "outputs": [],
   "source": [
    "for i in range(0,3):\n",
    "    _p._images['inpainted'][:,:,i] *= (_p._images['filled']>0)\n",
    "\n",
    "#\n",
    "# Step 1a,b: Identify the fill front deltaOmega and compute\n",
    "#            initial patch priorities"
   ]
  },
  {
   "cell_type": "code",
   "execution_count": 7,
   "metadata": {
    "collapsed": true
   },
   "outputs": [],
   "source": [
    "_p.computeBoundaries()\n",
    "_p.confidenceInitialize()"
   ]
  },
  {
   "cell_type": "code",
   "execution_count": 8,
   "metadata": {
    "collapsed": true
   },
   "outputs": [],
   "source": [
    "_p._w = 5"
   ]
  },
  {
   "cell_type": "code",
   "execution_count": 9,
   "metadata": {
    "collapsed": false
   },
   "outputs": [],
   "source": [
    "_p._patchDB = PatchDB(_p._images['inpainted'], _p._w, filled=_p._images['filled'])"
   ]
  },
  {
   "cell_type": "code",
   "execution_count": 10,
   "metadata": {
    "collapsed": true
   },
   "outputs": [],
   "source": [
    "_p.iterationsInit()\n",
    "done = False"
   ]
  },
  {
   "cell_type": "code",
   "execution_count": 11,
   "metadata": {
    "collapsed": false
   },
   "outputs": [],
   "source": [
    "boundary = _p._boundaryIterator.next()\n",
    "_p.fillFrontInitialize(boundary, imviewer=None)"
   ]
  },
  {
   "cell_type": "code",
   "execution_count": 12,
   "metadata": {
    "collapsed": false
   },
   "outputs": [],
   "source": [
    "boundaryPixels = boundary\n",
    "# initialize the pixels on the fill front\n",
    "_p._images['fillFront'] = \\\n",
    "    np.zeros_like(_p._images['filled'], dtype=np.uint8)\n",
    "_p._images['fillFront'] = \\\n",
    "    cv.drawContours(_p._images['fillFront'],boundaryPixels,-1,255)\n",
    "\n",
    "# initialize the priority queue with all points on the fill front\n",
    "_p._deltaOmega = Queue.PriorityQueue()"
   ]
  },
  {
   "cell_type": "code",
   "execution_count": 52,
   "metadata": {
    "collapsed": false
   },
   "outputs": [],
   "source": [
    "# col, row = boundaryPixels[10][0]\n",
    "col, row = (69, 128)\n",
    "p = PSI((row, col), _p._w, \n",
    "          image=_p._images['inpainted'], \n",
    "          filled=_p._images['filled'],\n",
    "          confidence=_p._images['confidence'],\n",
    "          fillFront=_p._images['fillFront'])\n",
    "inpaintedImage=_p._images['inpainted'] \n",
    "filledImage=_p._images['filled']\n",
    "confidence=_p._images['confidence']\n",
    "fillFront=_p._images['fillFront']"
   ]
  },
  {
   "cell_type": "code",
   "execution_count": 224,
   "metadata": {
    "collapsed": false
   },
   "outputs": [],
   "source": [
    "w = 3\n",
    "inpainted, _ = copyutils.getWindow(inpaintedImage, p._coords, w)\n",
    "filled, _ = copyutils.getWindow(filledImage, p._coords, w)\n",
    "if len(inpainted.shape) == 3:\n",
    "    inpainted = cv.cvtColor(inpainted, cv.COLOR_BGR2GRAY)\n",
    "# Sobel filter\n",
    "size = 2 * w + 1\n",
    "Dx = cv.Sobel(src=inpainted, ddepth=cv.CV_32F, dx=0, dy=1, ksize=size)\n",
    "Dy = -cv.Sobel(src=inpainted, ddepth=cv.CV_32F, dx=1, dy=0, ksize=size)\n",
    "Dx *= filled>0\n",
    "Dy *= filled>0\n",
    "d = np.sqrt(Dx**2 + Dy**2)\n",
    "dmax = d == d.max()\n",
    "# Dx = Dx[dmax][0]\n",
    "# Dy = Dy[dmax][0]"
   ]
  },
  {
   "cell_type": "code",
   "execution_count": 225,
   "metadata": {
    "collapsed": false
   },
   "outputs": [
    {
     "data": {
      "text/plain": [
       "array([[     0.,      0.,      0.,      0.,      0.,      0.,      0.],\n",
       "       [ 28050.,  38250.,      0.,      0.,      0.,      0.,      0.],\n",
       "       [ 33150.,  48450.,  70125.,      0.,      0.,      0.,      0.],\n",
       "       [ 20400.,  35955.,  65280.,      0.,      0.,      0.,      0.],\n",
       "       [  8160.,  20400.,  49470.,  70125.,      0.,      0.,      0.],\n",
       "       [  2550.,   8925.,  26775.,  44625.,      0.,      0.,      0.],\n",
       "       [     0.,      0.,      0.,      0.,      0.,      0.,      0.]], dtype=float32)"
      ]
     },
     "execution_count": 225,
     "metadata": {},
     "output_type": "execute_result"
    }
   ],
   "source": [
    "Dx"
   ]
  },
  {
   "cell_type": "code",
   "execution_count": 226,
   "metadata": {
    "collapsed": false
   },
   "outputs": [
    {
     "data": {
      "text/plain": [
       "array([[     -0.,  132600.,       0.,       0.,       0.,       0.,\n",
       "             -0.],\n",
       "       [     -0.,  122400.,       0.,       0.,       0.,       0.,\n",
       "             -0.],\n",
       "       [     -0.,   96900.,  154275.,       0.,       0.,       0.,\n",
       "             -0.],\n",
       "       [     -0.,   66045.,  134130.,       0.,       0.,       0.,\n",
       "             -0.],\n",
       "       [     -0.,   38250.,  103530.,  154275.,       0.,       0.,\n",
       "             -0.],\n",
       "       [     -0.,   19635.,   75225.,  144075.,       0.,       0.,\n",
       "             -0.],\n",
       "       [     -0.,   13260.,   63750.,  137700.,  160650.,       0.,\n",
       "             -0.]], dtype=float32)"
      ]
     },
     "execution_count": 226,
     "metadata": {},
     "output_type": "execute_result"
    }
   ],
   "source": [
    "Dy"
   ]
  },
  {
   "cell_type": "code",
   "execution_count": 227,
   "metadata": {
    "collapsed": false
   },
   "outputs": [
    {
     "data": {
      "text/plain": [
       "array([[255, 255,   0,   0,   0,   0,   0],\n",
       "       [255, 255,   0,   0,   0,   0,   0],\n",
       "       [255, 255, 255,   0,   0,   0,   0],\n",
       "       [255, 255, 255,   0,   0,   0,   0],\n",
       "       [255, 255, 255, 255,   0,   0,   0],\n",
       "       [255, 255, 255, 255,   0,   0,   0],\n",
       "       [255, 255, 255, 255, 255,   0,   0]], dtype=uint8)"
      ]
     },
     "execution_count": 227,
     "metadata": {},
     "output_type": "execute_result"
    }
   ],
   "source": [
    "filled"
   ]
  },
  {
   "cell_type": "code",
   "execution_count": 216,
   "metadata": {
    "collapsed": false
   },
   "outputs": [
    {
     "data": {
      "text/plain": [
       "array([[   0.,    0.,    0.],\n",
       "       [ 510.,    0.,    0.],\n",
       "       [   0.,    0.,    0.]], dtype=float32)"
      ]
     },
     "execution_count": 216,
     "metadata": {},
     "output_type": "execute_result"
    }
   ],
   "source": [
    "Dx * (filled>0)"
   ]
  },
  {
   "cell_type": "code",
   "execution_count": 217,
   "metadata": {
    "collapsed": false
   },
   "outputs": [
    {
     "data": {
      "text/plain": [
       "array([[   -0.,     0.,    -0.],\n",
       "       [   -0.,     0.,    -0.],\n",
       "       [   -0.,  1020.,    -0.]], dtype=float32)"
      ]
     },
     "execution_count": 217,
     "metadata": {},
     "output_type": "execute_result"
    }
   ],
   "source": [
    "Dy * (filled>0)"
   ]
  },
  {
   "cell_type": "code",
   "execution_count": 228,
   "metadata": {
    "collapsed": false
   },
   "outputs": [
    {
     "data": {
      "text/plain": [
       "array([[      0.        ,  132600.        ,       0.        ,\n",
       "              0.        ,       0.        ,       0.        ,       0.        ],\n",
       "       [  28050.        ,  128237.3671875 ,       0.        ,\n",
       "              0.        ,       0.        ,       0.        ,       0.        ],\n",
       "       [  33150.        ,  108337.4921875 ,  169464.71875   ,\n",
       "              0.        ,       0.        ,       0.        ,       0.        ],\n",
       "       [  20400.        ,   75197.765625  ,  149172.171875  ,\n",
       "              0.        ,       0.        ,       0.        ,       0.        ],\n",
       "       [   8160.        ,   43350.        ,  114742.0703125 ,\n",
       "         169464.71875   ,       0.        ,       0.        ,       0.        ],\n",
       "       [   2550.        ,   21568.23632812,   79847.9921875 ,\n",
       "         150827.703125  ,       0.        ,       0.        ,       0.        ],\n",
       "       [      0.        ,   13260.        ,   63750.        ,\n",
       "         137700.        ,  160650.        ,       0.        ,       0.        ]], dtype=float32)"
      ]
     },
     "execution_count": 228,
     "metadata": {},
     "output_type": "execute_result"
    }
   ],
   "source": [
    "d"
   ]
  },
  {
   "cell_type": "code",
   "execution_count": 230,
   "metadata": {
    "collapsed": false
   },
   "outputs": [
    {
     "data": {
      "text/plain": [
       "70125.0"
      ]
     },
     "execution_count": 230,
     "metadata": {},
     "output_type": "execute_result"
    }
   ],
   "source": [
    "Dx[dmax][0]"
   ]
  },
  {
   "cell_type": "code",
   "execution_count": null,
   "metadata": {
    "collapsed": true
   },
   "outputs": [],
   "source": []
  }
 ],
 "metadata": {
  "kernelspec": {
   "display_name": "Python 2",
   "language": "python",
   "name": "python2"
  },
  "language_info": {
   "codemirror_mode": {
    "name": "ipython",
    "version": 2
   },
   "file_extension": ".py",
   "mimetype": "text/x-python",
   "name": "python",
   "nbconvert_exporter": "python",
   "pygments_lexer": "ipython2",
   "version": "2.7.11"
  }
 },
 "nbformat": 4,
 "nbformat_minor": 0
}
