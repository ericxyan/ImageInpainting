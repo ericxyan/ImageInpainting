{
 "cells": [
  {
   "cell_type": "code",
   "execution_count": 1,
   "metadata": {
    "collapsed": false
   },
   "outputs": [
    {
     "name": "stderr",
     "output_type": "stream",
     "text": [
      "[INFO              ] [Logger      ] Record log in C:\\Users\\xiaoy\\.kivy\\logs\\kivy_16-04-08_28.txt\n",
      "[INFO              ] [Kivy        ] v1.9.1\n",
      "[INFO              ] [Python      ] v2.7.11 |Continuum Analytics, Inc.| (default, Feb 16 2016, 09:58:36) [MSC v.1500 64 bit (AMD64)]\n",
      "[INFO              ] [Image       ] Providers: img_tex, img_dds, img_gif, img_sdl2 (img_pil, img_ffpyplayer ignored)\n"
     ]
    }
   ],
   "source": [
    "import algorithm as al\n",
    "import numpy as np\n",
    "import cv2 as cv\n",
    "import Queue\n",
    "from patchdb import *\n",
    "from psi import *\n",
    "from copyutils import *\n",
    "from debug import *\n",
    "import inspect"
   ]
  },
  {
   "cell_type": "code",
   "execution_count": 2,
   "metadata": {
    "collapsed": false
   },
   "outputs": [],
   "source": [
    "def imshow(img):\n",
    "    cv.imshow('image', img)\n",
    "    cv.waitKey(0)\n",
    "    cv.destroyAllWindows()"
   ]
  },
  {
   "cell_type": "code",
   "execution_count": 3,
   "metadata": {
    "collapsed": false
   },
   "outputs": [],
   "source": [
    "_p = al.Inpainting()"
   ]
  },
  {
   "cell_type": "code",
   "execution_count": 4,
   "metadata": {
    "collapsed": false
   },
   "outputs": [
    {
     "data": {
      "text/plain": [
       "(True, 'Success')"
      ]
     },
     "execution_count": 4,
     "metadata": {},
     "output_type": "execute_result"
    }
   ],
   "source": [
    "_p.readImage('../../test_images/Kanizsa-triangle-tiny.png', 'source')\n",
    "\n",
    "_p.readImage('../../test_images/Kanizsa-triangle-mask-tiny.png', 'alpha')"
   ]
  },
  {
   "cell_type": "code",
   "execution_count": 5,
   "metadata": {
    "collapsed": true
   },
   "outputs": [],
   "source": [
    "_p._images['filled'] = np.uint8(_p._images['alpha'] > 0)*255\n",
    "_p._images['inpainted'] = _p._images['source'].copy()"
   ]
  },
  {
   "cell_type": "code",
   "execution_count": 6,
   "metadata": {
    "collapsed": false
   },
   "outputs": [
    {
     "data": {
      "text/plain": [
       "(341L, 320L, 3L)"
      ]
     },
     "execution_count": 6,
     "metadata": {},
     "output_type": "execute_result"
    }
   ],
   "source": [
    "_p._images['source'].shape"
   ]
  },
  {
   "cell_type": "code",
   "execution_count": 7,
   "metadata": {
    "collapsed": false
   },
   "outputs": [],
   "source": [
    "for i in range(0,3):\n",
    "    _p._images['inpainted'][:,:,i] *= (_p._images['filled']>0)\n",
    "\n",
    "#\n",
    "# Step 1a,b: Identify the fill front deltaOmega and compute\n",
    "#            initial patch priorities"
   ]
  },
  {
   "cell_type": "code",
   "execution_count": 8,
   "metadata": {
    "collapsed": true
   },
   "outputs": [],
   "source": [
    "_p.computeBoundaries()\n",
    "_p.confidenceInitialize()"
   ]
  },
  {
   "cell_type": "code",
   "execution_count": 9,
   "metadata": {
    "collapsed": true
   },
   "outputs": [],
   "source": [
    "_p._w = 5"
   ]
  },
  {
   "cell_type": "code",
   "execution_count": 10,
   "metadata": {
    "collapsed": false
   },
   "outputs": [],
   "source": [
    "_p._patchDB = PatchDB(_p._images['inpainted'], _p._w, filled=_p._images['filled'])"
   ]
  },
  {
   "cell_type": "code",
   "execution_count": 11,
   "metadata": {
    "collapsed": true
   },
   "outputs": [],
   "source": [
    "_p.iterationsInit()\n",
    "done = False"
   ]
  },
  {
   "cell_type": "code",
   "execution_count": 12,
   "metadata": {
    "collapsed": false
   },
   "outputs": [],
   "source": [
    "boundary = _p._boundaryIterator.next()\n",
    "_p.fillFrontInitialize(boundary, imviewer=None)"
   ]
  },
  {
   "cell_type": "code",
   "execution_count": 13,
   "metadata": {
    "collapsed": false
   },
   "outputs": [],
   "source": [
    "boundaryPixels = boundary\n",
    "# initialize the pixels on the fill front\n",
    "_p._images['fillFront'] = \\\n",
    "    np.zeros_like(_p._images['filled'], dtype=np.uint8)\n",
    "_p._images['fillFront'] = \\\n",
    "    cv.drawContours(_p._images['fillFront'],boundaryPixels,-1,255)\n",
    "\n",
    "# initialize the priority queue with all points on the fill front\n",
    "_p._deltaOmega = Queue.PriorityQueue()"
   ]
  },
  {
   "cell_type": "code",
   "execution_count": 75,
   "metadata": {
    "collapsed": false
   },
   "outputs": [],
   "source": [
    "# col, row = boundaryPixels[10][0]\n",
    "col, row = (106, 189)\n",
    "p = PSI((row, col), _p._w, \n",
    "          image=_p._images['inpainted'], \n",
    "          filled=_p._images['filled'],\n",
    "          confidence=_p._images['confidence'],\n",
    "          fillFront=_p._images['fillFront'])\n",
    "inpaintedImage=_p._images['inpainted'] \n",
    "filledImage=_p._images['filled']\n",
    "confidence=_p._images['confidence']\n",
    "fillFront=_p._images['fillFront']"
   ]
  },
  {
   "cell_type": "code",
   "execution_count": 76,
   "metadata": {
    "collapsed": false
   },
   "outputs": [],
   "source": [
    "inpainted, _ = copyutils.getWindow(inpaintedImage, p._coords, 5)\n",
    "filled, _ = copyutils.getWindow(filledImage, p._coords, 5)\n",
    "if len(inpainted.shape) == 3:\n",
    "    inpainted = cv.cvtColor(inpainted, cv.COLOR_BGR2GRAY)\n",
    "# Sobel filter\n",
    "size = 3\n",
    "Dx = cv.Sobel(src=inpainted, ddepth=cv.CV_32F, dx=0, dy=1, ksize=size)\n",
    "Dy = -cv.Sobel(src=inpainted, ddepth=cv.CV_32F, dx=1, dy=0, ksize=size)\n",
    "# Dx *= filled>0\n",
    "# Dy *= filled>0\n",
    "d = np.sqrt(Dx**2 + Dy**2)\n",
    "dmax = d == d.max()\n",
    "# Dx = Dx[dmax][0]\n",
    "# Dy = Dy[dmax][0]"
   ]
  },
  {
   "cell_type": "code",
   "execution_count": 79,
   "metadata": {
    "collapsed": false
   },
   "outputs": [
    {
     "data": {
      "text/plain": [
       "array([[  0,   0,   0,   0,   0,   0,   0,   0,   0,   0,   0],\n",
       "       [  0,   0,   0,   0,   0,   0,   0,   0,   0,   0,   0],\n",
       "       [255,   0,   0,   0,   0,   0,   0,   0,   0,   0,   0],\n",
       "       [255, 255,   0,   0,   0,   0,   0,   0,   0,   0,   0],\n",
       "       [255, 255,   0,   0,   0,   0,   0,   0,   0,   0,   0],\n",
       "       [255, 255, 255,   0,   0,   0,   0,   0,   0,   0,   0],\n",
       "       [255, 255, 255,   0,   0,   0,   0,   0,   0,   0,   0],\n",
       "       [255, 255, 255, 255,   0,   0,   0,   0,   0,   0,   0],\n",
       "       [255, 255, 255, 255,   0,   0,   0,   0,   0,   0,   0],\n",
       "       [255, 255, 255, 255, 255,   0,   0,   0,   0,   0,   0],\n",
       "       [255, 255, 255, 255, 255,   0,   0,   0,   0,   0,   0]], dtype=uint8)"
      ]
     },
     "execution_count": 79,
     "metadata": {},
     "output_type": "execute_result"
    }
   ],
   "source": [
    "inpainted"
   ]
  },
  {
   "cell_type": "code",
   "execution_count": 80,
   "metadata": {
    "collapsed": false
   },
   "outputs": [
    {
     "data": {
      "text/plain": [
       "array([[  0,   0,   0,   0,   0,   0,   0,   0,   0,   0,   0],\n",
       "       [  0,   0,   0,   0,   0,   0,   0,   0,   0,   0,   0],\n",
       "       [255,   0,   0,   0,   0,   0,   0,   0,   0,   0,   0],\n",
       "       [255, 255,   0,   0,   0,   0,   0,   0,   0,   0,   0],\n",
       "       [255, 255,   0,   0,   0,   0,   0,   0,   0,   0,   0],\n",
       "       [255, 255, 255,   0,   0,   0,   0,   0,   0,   0,   0],\n",
       "       [255, 255, 255,   0,   0,   0,   0,   0,   0,   0,   0],\n",
       "       [255, 255, 255, 255,   0,   0,   0,   0,   0,   0,   0],\n",
       "       [255, 255, 255, 255,   0,   0,   0,   0,   0,   0,   0],\n",
       "       [255, 255, 255, 255, 255,   0,   0,   0,   0,   0,   0],\n",
       "       [255, 255, 255, 255, 255,   0,   0,   0,   0,   0,   0]], dtype=uint8)"
      ]
     },
     "execution_count": 80,
     "metadata": {},
     "output_type": "execute_result"
    }
   ],
   "source": [
    "filled"
   ]
  },
  {
   "cell_type": "code",
   "execution_count": 81,
   "metadata": {
    "collapsed": false
   },
   "outputs": [
    {
     "data": {
      "text/plain": [
       "array([[1, 1, 1],\n",
       "       [1, 1, 1],\n",
       "       [1, 1, 1]], dtype=uint8)"
      ]
     },
     "execution_count": 81,
     "metadata": {},
     "output_type": "execute_result"
    }
   ],
   "source": [
    "erode_kernel = np.ones((3,3),np.uint8);kernel"
   ]
  },
  {
   "cell_type": "code",
   "execution_count": 82,
   "metadata": {
    "collapsed": false
   },
   "outputs": [
    {
     "data": {
      "text/plain": [
       "array([[  0,   0,   0,   0,   0,   0,   0,   0,   0,   0,   0],\n",
       "       [  0,   0,   0,   0,   0,   0,   0,   0,   0,   0,   0],\n",
       "       [  0,   0,   0,   0,   0,   0,   0,   0,   0,   0,   0],\n",
       "       [  0,   0,   0,   0,   0,   0,   0,   0,   0,   0,   0],\n",
       "       [255,   0,   0,   0,   0,   0,   0,   0,   0,   0,   0],\n",
       "       [255,   0,   0,   0,   0,   0,   0,   0,   0,   0,   0],\n",
       "       [255, 255,   0,   0,   0,   0,   0,   0,   0,   0,   0],\n",
       "       [255, 255,   0,   0,   0,   0,   0,   0,   0,   0,   0],\n",
       "       [255, 255, 255,   0,   0,   0,   0,   0,   0,   0,   0],\n",
       "       [255, 255, 255,   0,   0,   0,   0,   0,   0,   0,   0],\n",
       "       [255, 255, 255, 255,   0,   0,   0,   0,   0,   0,   0]], dtype=uint8)"
      ]
     },
     "execution_count": 82,
     "metadata": {},
     "output_type": "execute_result"
    }
   ],
   "source": [
    "filled_eroded = cv.erode(inpainted, erode_kernel, borderType=cv.BORDER_REPLICATE,iterations=1);filled_eroded"
   ]
  },
  {
   "cell_type": "code",
   "execution_count": 85,
   "metadata": {
    "collapsed": false
   },
   "outputs": [
    {
     "data": {
      "text/plain": [
       "array([[    0.,     0.,     0.,     0.,     0.,     0.,     0.,     0.,\n",
       "            0.,     0.,     0.],\n",
       "       [ -255.,  -255.,     0.,     0.,     0.,     0.,     0.,     0.,\n",
       "            0.,     0.,     0.],\n",
       "       [ -510.,  -765.,  -255.,     0.,     0.,     0.,     0.,     0.,\n",
       "            0.,     0.,     0.],\n",
       "       [ -255., -1020.,  -765.,     0.,     0.,     0.,     0.,     0.,\n",
       "            0.,     0.,     0.],\n",
       "       [    0.,  -765., -1020.,  -255.,     0.,     0.,     0.,     0.,\n",
       "            0.,     0.,     0.],\n",
       "       [    0.,  -255., -1020.,  -765.,     0.,     0.,     0.,     0.,\n",
       "            0.,     0.,     0.],\n",
       "       [    0.,     0.,  -765., -1020.,  -255.,     0.,     0.,     0.,\n",
       "            0.,     0.,     0.],\n",
       "       [    0.,     0.,  -255., -1020.,  -765.,     0.,     0.,     0.,\n",
       "            0.,     0.,     0.],\n",
       "       [    0.,     0.,     0.,  -765., -1020.,  -255.,     0.,     0.,\n",
       "            0.,     0.,     0.],\n",
       "       [    0.,     0.,     0.,  -255., -1020.,  -765.,     0.,     0.,\n",
       "            0.,     0.,     0.],\n",
       "       [    0.,     0.,     0.,     0., -1020., -1020.,     0.,     0.,\n",
       "            0.,     0.,     0.]], dtype=float32)"
      ]
     },
     "execution_count": 85,
     "metadata": {},
     "output_type": "execute_result"
    }
   ],
   "source": [
    "dx = cv.Sobel(src=inpainted, ddepth=cv.CV_32F, dx=1, dy=0, ksize=3, borderType=cv.BORDER_REPLICATE);dx"
   ]
  },
  {
   "cell_type": "code",
   "execution_count": 87,
   "metadata": {
    "collapsed": false
   },
   "outputs": [],
   "source": [
    "dx *= filled_eroded > 0"
   ]
  },
  {
   "cell_type": "code",
   "execution_count": 88,
   "metadata": {
    "collapsed": false
   },
   "outputs": [
    {
     "data": {
      "text/plain": [
       "array([[ 0.,  0.,  0.,  0.,  0.,  0.,  0.,  0.,  0.,  0.,  0.],\n",
       "       [-0., -0.,  0.,  0.,  0.,  0.,  0.,  0.,  0.,  0.,  0.],\n",
       "       [-0., -0., -0.,  0.,  0.,  0.,  0.,  0.,  0.,  0.,  0.],\n",
       "       [-0., -0., -0.,  0.,  0.,  0.,  0.,  0.,  0.,  0.,  0.],\n",
       "       [ 0., -0., -0., -0.,  0.,  0.,  0.,  0.,  0.,  0.,  0.],\n",
       "       [ 0., -0., -0., -0.,  0.,  0.,  0.,  0.,  0.,  0.,  0.],\n",
       "       [ 0.,  0., -0., -0., -0.,  0.,  0.,  0.,  0.,  0.,  0.],\n",
       "       [ 0.,  0., -0., -0., -0.,  0.,  0.,  0.,  0.,  0.,  0.],\n",
       "       [ 0.,  0.,  0., -0., -0., -0.,  0.,  0.,  0.,  0.,  0.],\n",
       "       [ 0.,  0.,  0., -0., -0., -0.,  0.,  0.,  0.,  0.,  0.],\n",
       "       [ 0.,  0.,  0.,  0., -0., -0.,  0.,  0.,  0.,  0.,  0.]], dtype=float32)"
      ]
     },
     "execution_count": 88,
     "metadata": {},
     "output_type": "execute_result"
    }
   ],
   "source": [
    "dx"
   ]
  },
  {
   "cell_type": "code",
   "execution_count": 37,
   "metadata": {
    "collapsed": false
   },
   "outputs": [
    {
     "data": {
      "text/plain": [
       "array([[        0.,         0.,         0.,         0.,         0.,\n",
       "                0.,         0.,         0.,         0.,         0.,\n",
       "                0.],\n",
       "       [  3754606.,   1644790.,  -3080783.,  -7054268.,  -8058713.,\n",
       "         -6530509.,  -4395168.,  -3008806.,  -2480366.,  -2368071.,\n",
       "         -2358274.],\n",
       "       [  5120702.,   2068980.,  -5082325., -11896860., -14971477.,\n",
       "        -14232110., -11990866., -10284819.,  -9575954.,  -9417623.,\n",
       "         -9404322.],\n",
       "       [  1441130.,   -910673.,  -7026632., -14351684., -19967748.,\n",
       "        -22508432., -22759810., -22291298., -21987000., -21916536.,\n",
       "        -21915998.],\n",
       "       [ -5648004.,  -6359576.,  -9133050., -14552338., -21382308.,\n",
       "        -27259872., -30792496., -32277860., -32722296., -32833426.,\n",
       "        -32857840.],\n",
       "       [       -0.,        -0.,        -0.,        -0.,        -0.,\n",
       "               -0.,        -0.,        -0.,        -0.,        -0.,\n",
       "               -0.],\n",
       "       [       -0.,        -0.,        -0.,        -0.,        -0.,\n",
       "               -0.,        -0.,        -0.,        -0.,        -0.,\n",
       "               -0.],\n",
       "       [       -0.,        -0.,        -0.,        -0.,        -0.,\n",
       "               -0.,        -0.,        -0.,        -0.,        -0.,\n",
       "               -0.],\n",
       "       [       -0.,        -0.,        -0.,        -0.,        -0.,\n",
       "               -0.,        -0.,        -0.,        -0.,        -0.,\n",
       "               -0.],\n",
       "       [       -0.,        -0.,        -0.,        -0.,        -0.,\n",
       "               -0.,        -0.,        -0.,        -0.,        -0.,\n",
       "               -0.],\n",
       "       [        0.,         0.,         0.,         0.,         0.,\n",
       "                0.,         0.,         0.,         0.,         0.,\n",
       "                0.]], dtype=float32)"
      ]
     },
     "execution_count": 37,
     "metadata": {},
     "output_type": "execute_result"
    }
   ],
   "source": [
    "Dx * (filled>0)"
   ]
  },
  {
   "cell_type": "code",
   "execution_count": 38,
   "metadata": {
    "collapsed": false
   },
   "outputs": [
    {
     "data": {
      "text/plain": [
       "array([[        0.  ,  12613268.  ,  24318762.  ,  29631326.  ,\n",
       "         24939268.  ,  14594492.  ,   5889934.  ,   1697388.  ,\n",
       "           477950.  ,    187002.  ,         0.  ],\n",
       "       [  3754606.  ,  10631455.  ,  21920576.  ,  29140332.  ,\n",
       "         26545358.  ,  17068156.  ,   8139094.  ,   3682586.5 ,\n",
       "          2547378.25,   2376234.5 ,   2358274.  ],\n",
       "       [  5120702.  ,   5728588.5 ,  15825932.  ,  26967014.  ,\n",
       "         29385972.  ,  22980776.  ,  14964519.  ,  10745647.  ,\n",
       "          9611682.  ,   9420190.  ,   9404322.  ],\n",
       "       [  1441130.  ,    912754.75,  10006192.  ,  22962556.  ,\n",
       "         30361308.  ,  29235404.  ,  24994084.  ,  22631844.  ,\n",
       "         22011722.  ,  21917782.  ,  21915998.  ],\n",
       "       [  5648004.  ,   7085883.5 ,   9224807.  ,  18246094.  ,\n",
       "         27531854.  ,  31490944.  ,  32205790.  ,  32499366.  ,\n",
       "         32738382.  ,  32834096.  ,  32857840.  ],\n",
       "       [        0.  ,         0.  ,         0.  ,         0.  ,\n",
       "                0.  ,         0.  ,         0.  ,         0.  ,\n",
       "                0.  ,         0.  ,         0.  ],\n",
       "       [        0.  ,         0.  ,         0.  ,         0.  ,\n",
       "                0.  ,         0.  ,         0.  ,         0.  ,\n",
       "                0.  ,         0.  ,         0.  ],\n",
       "       [        0.  ,         0.  ,         0.  ,         0.  ,\n",
       "                0.  ,         0.  ,         0.  ,         0.  ,\n",
       "                0.  ,         0.  ,         0.  ],\n",
       "       [        0.  ,         0.  ,         0.  ,         0.  ,\n",
       "                0.  ,         0.  ,         0.  ,         0.  ,\n",
       "                0.  ,         0.  ,         0.  ],\n",
       "       [        0.  ,         0.  ,         0.  ,         0.  ,\n",
       "                0.  ,         0.  ,         0.  ,         0.  ,\n",
       "                0.  ,         0.  ,         0.  ],\n",
       "       [        0.  ,         0.  ,         0.  ,         0.  ,\n",
       "                0.  ,         0.  ,         0.  ,         0.  ,\n",
       "                0.  ,         0.  ,         0.  ]], dtype=float32)"
      ]
     },
     "execution_count": 38,
     "metadata": {},
     "output_type": "execute_result"
    }
   ],
   "source": [
    "d"
   ]
  },
  {
   "cell_type": "code",
   "execution_count": 44,
   "metadata": {
    "collapsed": false
   },
   "outputs": [
    {
     "data": {
      "text/plain": [
       "-513.0"
      ]
     },
     "execution_count": 44,
     "metadata": {},
     "output_type": "execute_result"
    }
   ],
   "source": [
    "Dx[dmax][0]"
   ]
  },
  {
   "cell_type": "code",
   "execution_count": 45,
   "metadata": {
    "collapsed": false
   },
   "outputs": [
    {
     "data": {
      "text/plain": [
       "-959.0"
      ]
     },
     "execution_count": 45,
     "metadata": {},
     "output_type": "execute_result"
    }
   ],
   "source": [
    "Dy[dmax][0]"
   ]
  },
  {
   "cell_type": "code",
   "execution_count": null,
   "metadata": {
    "collapsed": true
   },
   "outputs": [],
   "source": []
  }
 ],
 "metadata": {
  "kernelspec": {
   "display_name": "Python 2",
   "language": "python",
   "name": "python2"
  },
  "language_info": {
   "codemirror_mode": {
    "name": "ipython",
    "version": 2
   },
   "file_extension": ".py",
   "mimetype": "text/x-python",
   "name": "python",
   "nbconvert_exporter": "python",
   "pygments_lexer": "ipython2",
   "version": "2.7.11"
  }
 },
 "nbformat": 4,
 "nbformat_minor": 0
}
