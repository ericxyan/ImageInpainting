{
 "cells": [
  {
   "cell_type": "code",
   "execution_count": 19,
   "metadata": {
    "collapsed": false
   },
   "outputs": [],
   "source": [
    "import algorithm as al\n",
    "import numpy as np\n",
    "import cv2 as cv\n",
    "import Queue\n",
    "from patchdb import *\n",
    "from psi import *\n",
    "from copyutils import *\n",
    "from debug import *\n",
    "import inspect"
   ]
  },
  {
   "cell_type": "code",
   "execution_count": 20,
   "metadata": {
    "collapsed": false
   },
   "outputs": [],
   "source": [
    "def imshow(img):\n",
    "    cv.imshow('image', img)\n",
    "    cv.waitKey(0)\n",
    "    cv.destroyAllWindows()"
   ]
  },
  {
   "cell_type": "code",
   "execution_count": 21,
   "metadata": {
    "collapsed": false
   },
   "outputs": [],
   "source": [
    "_p = al.Inpainting()"
   ]
  },
  {
   "cell_type": "code",
   "execution_count": 22,
   "metadata": {
    "collapsed": false
   },
   "outputs": [
    {
     "data": {
      "text/plain": [
       "(True, 'Success')"
      ]
     },
     "execution_count": 22,
     "metadata": {},
     "output_type": "execute_result"
    }
   ],
   "source": [
    "_p.readImage('../../test_images/Kanizsa-triangle-tiny.png', 'source')\n",
    "\n",
    "_p.readImage('../../test_images/Kanizsa-triangle-mask-tiny.png', 'alpha')"
   ]
  },
  {
   "cell_type": "code",
   "execution_count": 23,
   "metadata": {
    "collapsed": true
   },
   "outputs": [],
   "source": [
    "_p._images['filled'] = np.uint8(_p._images['alpha'] > 0)*255\n",
    "_p._images['inpainted'] = _p._images['source'].copy()"
   ]
  },
  {
   "cell_type": "code",
   "execution_count": 24,
   "metadata": {
    "collapsed": true
   },
   "outputs": [],
   "source": [
    "for i in range(0,3):\n",
    "    _p._images['inpainted'][:,:,i] *= (_p._images['filled']>0)\n",
    "\n",
    "#\n",
    "# Step 1a,b: Identify the fill front deltaOmega and compute\n",
    "#            initial patch priorities"
   ]
  },
  {
   "cell_type": "code",
   "execution_count": 25,
   "metadata": {
    "collapsed": true
   },
   "outputs": [],
   "source": [
    "_p.computeBoundaries()\n",
    "_p.confidenceInitialize()"
   ]
  },
  {
   "cell_type": "code",
   "execution_count": 26,
   "metadata": {
    "collapsed": true
   },
   "outputs": [],
   "source": [
    "_p._w = 5"
   ]
  },
  {
   "cell_type": "code",
   "execution_count": 27,
   "metadata": {
    "collapsed": false
   },
   "outputs": [],
   "source": [
    "_p._patchDB = PatchDB(_p._images['inpainted'], _p._w, filled=_p._images['filled'])"
   ]
  },
  {
   "cell_type": "code",
   "execution_count": 28,
   "metadata": {
    "collapsed": true
   },
   "outputs": [],
   "source": [
    "_p.iterationsInit()\n",
    "done = False"
   ]
  },
  {
   "cell_type": "code",
   "execution_count": 29,
   "metadata": {
    "collapsed": false
   },
   "outputs": [],
   "source": [
    "boundary = _p._boundaryIterator.next()\n",
    "_p.fillFrontInitialize(boundary, imviewer=None)"
   ]
  },
  {
   "cell_type": "code",
   "execution_count": 30,
   "metadata": {
    "collapsed": false
   },
   "outputs": [],
   "source": [
    "boundaryPixels = boundary\n",
    "# initialize the pixels on the fill front\n",
    "_p._images['fillFront'] = \\\n",
    "    np.zeros_like(_p._images['filled'], dtype=np.uint8)\n",
    "_p._images['fillFront'] = \\\n",
    "    cv.drawContours(_p._images['fillFront'],boundaryPixels,-1,255)\n",
    "\n",
    "# initialize the priority queue with all points on the fill front\n",
    "_p._deltaOmega = Queue.PriorityQueue()"
   ]
  },
  {
   "cell_type": "code",
   "execution_count": 31,
   "metadata": {
    "collapsed": false
   },
   "outputs": [],
   "source": [
    "col, row = boundaryPixels[10][0]\n",
    "p = PSI((row, col), _p._w, \n",
    "          image=_p._images['inpainted'], \n",
    "          filled=_p._images['filled'],\n",
    "          confidence=_p._images['confidence'],\n",
    "          fillFront=_p._images['fillFront'])"
   ]
  },
  {
   "cell_type": "code",
   "execution_count": 32,
   "metadata": {
    "collapsed": false
   },
   "outputs": [],
   "source": [
    "cwindow, _ = copyutils.getWindow(_p._images['confidence'], p._coords, p._w)\n",
    "filled, valid = copyutils.getWindow(_p._images['filled'], p._coords, p._w)\n",
    "psiPArea = valid.sum()\n",
    "C = cwindow[filled>0].sum() / psiPArea"
   ]
  },
  {
   "cell_type": "code",
   "execution_count": 33,
   "metadata": {
    "collapsed": true
   },
   "outputs": [],
   "source": [
    "v1 = np.array([1,2,1])\n",
    "v2 = np.array([-1,0,1])\n",
    "# Sobel filter for the x-derivative\n",
    "sobelycol = v1[:,np.newaxis]\n",
    "sobelyrow = v2[np.newaxis,:]\n",
    "# Sobel filter for the y-derivative\n",
    "sobelxcol = v2[:,np.newaxis]\n",
    "sobelxrow = v1[np.newaxis,:]"
   ]
  },
  {
   "cell_type": "code",
   "execution_count": 34,
   "metadata": {
    "collapsed": true
   },
   "outputs": [],
   "source": [
    "pixels, _ = copyutils.getWindow(_p._images['fillFront'], p._coords, 1)"
   ]
  },
  {
   "cell_type": "code",
   "execution_count": 39,
   "metadata": {
    "collapsed": false
   },
   "outputs": [],
   "source": [
    "sobelx = np.dot(-sobelxcol, sobelxrow)\n",
    "\n",
    "sobely = np.dot(-sobelycol, sobelyrow)"
   ]
  },
  {
   "cell_type": "code",
   "execution_count": 43,
   "metadata": {
    "collapsed": false
   },
   "outputs": [
    {
     "data": {
      "text/plain": [
       "array([[ 1,  0, -1],\n",
       "       [ 2,  0, -2],\n",
       "       [ 1,  0, -1]])"
      ]
     },
     "execution_count": 43,
     "metadata": {},
     "output_type": "execute_result"
    }
   ],
   "source": [
    "sobely"
   ]
  },
  {
   "cell_type": "code",
   "execution_count": null,
   "metadata": {
    "collapsed": true
   },
   "outputs": [],
   "source": []
  }
 ],
 "metadata": {
  "kernelspec": {
   "display_name": "Python 2",
   "language": "python",
   "name": "python2"
  },
  "language_info": {
   "codemirror_mode": {
    "name": "ipython",
    "version": 2
   },
   "file_extension": ".py",
   "mimetype": "text/x-python",
   "name": "python",
   "nbconvert_exporter": "python",
   "pygments_lexer": "ipython2",
   "version": "2.7.11"
  }
 },
 "nbformat": 4,
 "nbformat_minor": 0
}
